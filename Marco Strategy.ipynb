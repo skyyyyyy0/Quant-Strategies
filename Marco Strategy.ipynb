{
 "cells": [
  {
   "cell_type": "markdown",
   "id": "b9d5f444",
   "metadata": {},
   "source": [
    "# Quant Macro Strategy\n",
    "\n",
    "Quant Macro Strategies combine marco-economic principles and quantitative analysis to make data-driven investment decisions. These strategies focus on the relationship between macro-economic indicators(e.g., interest rates, inflation, GDP growth) and finanical markets to allocate assets effectively across stocks, bonds, commodities, currencies, and other asset classes. \n"
   ]
  },
  {
   "cell_type": "markdown",
   "id": "6a7847a7",
   "metadata": {},
   "source": [
    "## 1. What is a Quant Macro Strategy? \n",
    "\n",
    "### 1.1 Definition \n",
    "Quant Macro Strategy is an investment approach where macro-economic trends are analyzed quantitatively to determine the optimal allocation of a portfolio. \n",
    "\n",
    "It aim to: \n",
    "- Predict how macro variables affect different asset classes. \n",
    "- Use systemic rules or algorithm to adjust portfolio allocation. \n",
    "\n",
    "### 1.2 Key Assumptions \n",
    "`Marco data drives markets`: For instance, rising interest rates might lower stock valuations but increase bond yields. \n",
    "\n",
    "\n",
    "`Quantitative models provide insight`: Historical relationships between economic indicators and asset prices can guide future investments."
   ]
  },
  {
   "cell_type": "markdown",
   "id": "b067e919",
   "metadata": {},
   "source": [
    "## 2. Core components of Quant Macro Strategy \n",
    "\n",
    "### 2.1 Marco-Economic Indicators \n",
    "These indicators reflect the health of an economy and serve as signals for asset allocation:\n",
    "- Interest Rate, Inflation(CPI, PPI), GDP Growth, Umemployment Rates, Trade Balances & Currency Movements\n",
    "\n",
    "### 2.1 Asset Classes \n",
    "Quant Macro Strategy consider mutiple asset classes:\n",
    "- Equities(Stock), Fixed Income(Bonds), Commodities(Gold, Oil, Silver), Real Estate"
   ]
  },
  {
   "cell_type": "markdown",
   "id": "523d7223",
   "metadata": {},
   "source": [
    "## 3. How Does a Quant Marco Strategy Work? \n",
    "\n",
    "### 3.1 Step1: Data Collection\n",
    "- Macro data: Central bank interest rates, CPI, GDP, unemployment rates, trade data\n",
    "- Market data: Stock indices, bond yields, commodities prices, exchange rates, cryptocurrencies, real estate.\n",
    "- Alternative data: Social sentiment, geopolitical news, weather data(for commodities)\n",
    "### 3.2 Step2: Data Preprocessing\n",
    "- Cleansing missing values \n",
    "- Adjusting for time zones, reporting lags. \n",
    "- Standardizing data for easier comparison.\n",
    "### 3.3 Step3: Model Development\n",
    "- Build predictive model: If inflation > 3%, increase commodity allocation. If GDP growth < 1%, shift to defensive sectors(e.g., utilities, healthcare)\n",
    "### 3.4 Step4: Portfolio Construction\n",
    "- Allocate weights to asset classes based on Macro predictions\n",
    "- Example: 50% equities, 30% bonds, 20% commodities\n",
    "### 3.5 Step5: Backtesting\n",
    "- Key performance metrics:\n",
    "1. CAGR(Compunt Annual Growth Rate) : Measure overall portfolio growth\n",
    "2. Sharpe Ratio: Risk-adjusted return\n",
    "3. Max drawdown: Largest peak-to-through loss."
   ]
  },
  {
   "cell_type": "code",
   "execution_count": 48,
   "id": "b4cadd61",
   "metadata": {},
   "outputs": [],
   "source": [
    "# 1. Data Collection\n",
    "# 1.1 Market Data \n",
    "# Collect a stock indices, bond yields, commodities prices, exchange rates, cryptocurrencies. "
   ]
  },
  {
   "cell_type": "code",
   "execution_count": 19,
   "id": "cce219b6",
   "metadata": {},
   "outputs": [
    {
     "name": "stdout",
     "output_type": "stream",
     "text": [
      "[*********************100%%**********************]  1 of 1 completed\n",
      "                 Open       High         Low     Close  Adj Close    Volume\n",
      "Date                                                                       \n",
      "2000-01-03  148.25000  148.25000  143.875000  145.4375  92.693001   8164300\n",
      "2000-01-04  143.53125  144.06250  139.640625  139.7500  89.068085   8089800\n",
      "2000-01-05  139.93750  141.53125  137.250000  140.0000  89.227386  12177900\n",
      "2000-01-06  139.62500  141.50000  137.750000  137.7500  87.793388   6227200\n",
      "2000-01-07  140.31250  145.75000  140.062500  145.7500  92.892075   8066500\n"
     ]
    }
   ],
   "source": [
    "# Equities Data Collection \n",
    "import yfinance as yf \n",
    "\n",
    "equities_data = yf.download(\"SPY\", start=\"2000-01-01\", end=\"2024-12-25\")\n",
    "print(equities_data.head())"
   ]
  },
  {
   "cell_type": "code",
   "execution_count": 38,
   "id": "a8ef4981",
   "metadata": {},
   "outputs": [
    {
     "name": "stdout",
     "output_type": "stream",
     "text": [
      "[*********************100%%**********************]  1 of 1 completed\n",
      "[*********************100%%**********************]  1 of 1 completed\n"
     ]
    }
   ],
   "source": [
    "# Bonds Data Collection \n",
    "# TLT or IEF for a macro strategy driven by U.S interest rate\n",
    "# AGG or BND for broader fixed-income exposure\n",
    "# TIP for inflation sentivitiy\n",
    "\n",
    "long_bonds_data = yf.download(\"TLT\", start=\"2000-01-01\", end=\"2024-12-25\")\n",
    "short_bonds_data = yf.download(\"IEF\", start=\"2000-01-01\", end=\"2024-12-25\")"
   ]
  },
  {
   "cell_type": "code",
   "execution_count": 42,
   "id": "816a93d4",
   "metadata": {},
   "outputs": [
    {
     "name": "stdout",
     "output_type": "stream",
     "text": [
      "[*********************100%%**********************]  1 of 1 completed\n",
      "[*********************100%%**********************]  1 of 1 completed\n",
      "[*********************100%%**********************]  1 of 1 completed\n",
      "[*********************100%%**********************]  1 of 1 completed\n",
      "[*********************100%%**********************]  1 of 1 completed\n",
      "[*********************100%%**********************]  1 of 1 completed\n",
      "                 Open       High        Low      Close  Adj Close  Volume\n",
      "Date                                                                     \n",
      "2010-06-09  25.120001  25.250000  25.120001  25.150000  25.150000    1700\n",
      "2010-06-10  25.459999  25.459999  25.459999  25.459999  25.459999     200\n",
      "2010-06-11  25.879999  25.879999  25.790001  25.790001  25.790001     500\n",
      "2010-06-14  25.990000  26.110001  25.990000  26.110001  26.110001    2200\n",
      "2010-06-15  26.240000  26.240000  25.969999  25.969999  25.969999    7000\n"
     ]
    }
   ],
   "source": [
    "# Commodities Data Collection \n",
    "# Hard commodities(Crude Oil, Gold, Silver, Copper)\n",
    "# Soft commodities(Corn, weat)\n",
    "\n",
    "oil_data = yf.download(\"USO\", start=\"2000-01-01\", end=\"2024-12-25\")\n",
    "gold_data = yf.download(\"GLD\", start=\"2000-01-01\", end=\"2024-12-25\")\n",
    "silver_data = yf.download(\"SLV\", start=\"2000-01-01\", end=\"2024-12-25\")\n",
    "copper_data = yf.download(\"CPER\", start=\"2000-01-01\", end=\"2024-12-25\")\n",
    "corn_data = yf.download(\"CORN\", start=\"2000-01-01\", end=\"2024-12-25\")\n",
    "weat_data = yf.download(\"WEAT\", start=\"2000-01-01\", end=\"2024-12-25\")\n",
    "\n",
    "print(corn_data.head())"
   ]
  },
  {
   "cell_type": "code",
   "execution_count": 29,
   "id": "69eb025d",
   "metadata": {},
   "outputs": [
    {
     "name": "stdout",
     "output_type": "stream",
     "text": [
      "[*********************100%%**********************]  1 of 1 completed\n",
      "[*********************100%%**********************]  1 of 1 completed\n",
      "[*********************100%%**********************]  1 of 1 completed\n",
      "[*********************100%%**********************]  1 of 1 completed\n"
     ]
    }
   ],
   "source": [
    "# Exchange rate Data Collection \n",
    "# EUR/USD, USD/JPY, GBP/USD, USD/CNY,\n",
    "eur_data = yf.download(\"EURUSD=X\", start=\"2020-01-01\", end=\"2024-12-25\")\n",
    "jpy_data = yf.download(\"USDJPY=X\", start=\"2000-01-01\", end=\"2024-12-25\")\n",
    "gbp_data = yf.download(\"GBPUSD=X\", start=\"2000-01-01\", end=\"2024-12-25\")\n",
    "cny_data = yf.download(\"USDCNY=X\", start=\"2000-01-01\", end=\"2024-12-25\")"
   ]
  },
  {
   "cell_type": "code",
   "execution_count": 30,
   "id": "3fdd8fa8",
   "metadata": {},
   "outputs": [
    {
     "name": "stdout",
     "output_type": "stream",
     "text": [
      "[*********************100%%**********************]  1 of 1 completed\n",
      "[*********************100%%**********************]  1 of 1 completed\n"
     ]
    }
   ],
   "source": [
    "# Cryptocurriencies Data Collection \n",
    "\n",
    "bit_data = yf.download(\"BTC\", start=\"2000-01-01\", end=\"2024-12-25\")\n",
    "eth_data = yf.download(\"ETH\", start=\"2000-01-01\", end=\"2024-12-25\")"
   ]
  },
  {
   "cell_type": "code",
   "execution_count": 49,
   "id": "ca965e0f",
   "metadata": {},
   "outputs": [],
   "source": [
    "# 1.2 Macro Data Collection\n",
    "# Collect a Central bank interest rates, CPI, GDP, unemployment rates, trade data"
   ]
  },
  {
   "cell_type": "code",
   "execution_count": 51,
   "id": "fd491ac8",
   "metadata": {},
   "outputs": [
    {
     "name": "stdout",
     "output_type": "stream",
     "text": [
      "[*********************100%%**********************]  1 of 1 completed\n",
      "[*********************100%%**********************]  1 of 1 completed\n"
     ]
    }
   ],
   "source": [
    "# Central bank interest rates \n",
    "# 1. U.S. 10-Year Treasury Yield: \"^TNX\"\n",
    "# 2. U.S. 30-Year Treasury Yield: \"^TYX\n",
    "import yfinance as yf \n",
    "treasury_10_data = yf.download(\"^TNX\", start=\"2020-01-01\", end=\"2024-12-25\")\n",
    "treasury_30_data = yf.download(\"^TYX\", start=\"2020-01-01\", end=\"2024-12-25\")"
   ]
  },
  {
   "cell_type": "markdown",
   "id": "a2310236",
   "metadata": {},
   "source": [
    "Economics indicators like CPI(Consumer Price Index), GDP(Gross Domestic Product), unempolyment rate, and trade data are not directly accessible through `yfinance` "
   ]
  },
  {
   "cell_type": "code",
   "execution_count": null,
   "id": "a81d0543",
   "metadata": {},
   "outputs": [],
   "source": []
  },
  {
   "cell_type": "code",
   "execution_count": null,
   "id": "8d1bece7",
   "metadata": {},
   "outputs": [],
   "source": []
  },
  {
   "cell_type": "code",
   "execution_count": 31,
   "id": "721a9ce2",
   "metadata": {},
   "outputs": [],
   "source": [
    "# 2. Data Preprocessing\n",
    "# Cleasing missing values, Adjusting for time zones, Reporting lags, Standardizing data for easier comparison."
   ]
  },
  {
   "cell_type": "code",
   "execution_count": 35,
   "id": "6a9a5dce",
   "metadata": {},
   "outputs": [
    {
     "name": "stdout",
     "output_type": "stream",
     "text": [
      "Open         0\n",
      "High         0\n",
      "Low          0\n",
      "Close        0\n",
      "Adj Close    0\n",
      "Volume       0\n",
      "dtype: int64\n"
     ]
    }
   ],
   "source": [
    "# Equities Count missing values per column \n",
    "import pandas as pd \n",
    "\n",
    "df = pd.DataFrame(equities_data)\n",
    "missing_per_column = df.isnull().sum()\n",
    "print(missing_per_column)"
   ]
  },
  {
   "cell_type": "markdown",
   "id": "47424c9c",
   "metadata": {},
   "source": [
    "Assets data generally doesn't have missing values if sourced from reliable platforms, but gaps may still occur due to hoildays, illiquidity, or other factors"
   ]
  },
  {
   "cell_type": "code",
   "execution_count": null,
   "id": "18237af2",
   "metadata": {},
   "outputs": [],
   "source": []
  }
 ],
 "metadata": {
  "kernelspec": {
   "display_name": "Python 3 (ipykernel)",
   "language": "python",
   "name": "python3"
  },
  "language_info": {
   "codemirror_mode": {
    "name": "ipython",
    "version": 3
   },
   "file_extension": ".py",
   "mimetype": "text/x-python",
   "name": "python",
   "nbconvert_exporter": "python",
   "pygments_lexer": "ipython3",
   "version": "3.11.4"
  }
 },
 "nbformat": 4,
 "nbformat_minor": 5
}
